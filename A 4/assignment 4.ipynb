{
 "cells": [
  {
   "cell_type": "markdown",
   "metadata": {},
   "source": [
    "# Question Number 1"
   ]
  },
  {
   "cell_type": "code",
   "execution_count": 1,
   "metadata": {
    "id": "1-vuOVGB-T7x"
   },
   "outputs": [
    {
     "name": "stdout",
     "output_type": "stream",
     "text": [
      "enter your name : zaraar\n",
      "2\n"
     ]
    }
   ],
   "source": [
    "\n",
    "name=input(\"enter your name : \")\n",
    "count=odd=even=0\n",
    "l=[]\n",
    "for i in name:     \n",
    "  count=0                 \n",
    "  for j in name:\n",
    "    if(j==i):\n",
    "      count=count+1    #counting the number of occurences each character occurs\n",
    "  l.append(int(count))   #type casting into list\n",
    "for i in l:\n",
    "  if i%2==0:\n",
    "    even=even+1\n",
    "  else:\n",
    "    odd=odd+1\n",
    "if(odd==0 and even>0):             #if the string is even\n",
    "  print(0)\n",
    "elif(even==0 and odd>0):           #if the string is odd\n",
    "  print(1)\n",
    "else:                              #if the string is neither\n",
    "  print(2)\n"
   ]
  },
  {
   "cell_type": "markdown",
   "metadata": {
    "colab": {
     "base_uri": "https://localhost:8080/"
    },
    "id": "MhGOQa87-xD-",
    "outputId": "33593361-79af-4ace-889a-30e268ae3548"
   },
   "source": [
    "#  Question number 2"
   ]
  },
  {
   "cell_type": "code",
   "execution_count": 3,
   "metadata": {
    "id": "eWKwbBYH_WGy"
   },
   "outputs": [
    {
     "name": "stdout",
     "output_type": "stream",
     "text": [
      "enter your credit card number it must be less than 20 : 1234567897\n",
      "VALID\n"
     ]
    }
   ],
   "source": [
    "                                 \n",
    "x=input(\"enter your credit card number it must be less than 20 : \")\n",
    "x=x.replace(\"\",\" \")\n",
    "x=x.split()\n",
    "su=counter=0\n",
    "odd=x[::-2]\n",
    "even=x[-2::-2]\n",
    "for i in odd:\n",
    "    su=su+int(i)\n",
    "for i in even:\n",
    "     if int(i)*2>9:\n",
    "          s=str(int(i)*2)\n",
    "          s=s.replace(\"\",\" \")\n",
    "          s=s.split()\n",
    "          for j in s:\n",
    "              su=su+int(j)\n",
    "     else:\n",
    "        su=su+int(i)*2\n",
    "if su%10==0:\n",
    "    print(\"VALID\")\n",
    "else:\n",
    "    c=su%10\n",
    "    print(\"INVALID , \",c)\n",
    "   "
   ]
  },
  {
   "cell_type": "markdown",
   "metadata": {
    "id": "b4JPwin5-YgC"
   },
   "source": [
    "# Question number 3"
   ]
  },
  {
   "cell_type": "code",
   "execution_count": 2,
   "metadata": {
    "id": "jwZXM8U--dQL"
   },
   "outputs": [
    {
     "name": "stdout",
     "output_type": "stream",
     "text": [
      "enter the total number of values you want to check : 1\n",
      "enter a number to be checked : 15\n",
      "\n",
      "Input value :  15\n",
      "\n",
      "Missed it by that much ( 2 ) !\n",
      "\n"
     ]
    }
   ],
   "source": [
    "\n",
    "\n",
    "def close(number):\n",
    "  forward=number+1         #check for prime number in the positive hand side\n",
    "  backward=number-1        #check for prime number in the negative hand side\n",
    "    \n",
    "  count_forward=1          #position of the nearest prime number in +ve\n",
    "  count_backward=1         #position of the nearest prime number in -ve\n",
    "    \n",
    "  checker_forward=check(forward)         #calling prime number function\n",
    "  checker_backward=check(backward)       #calling prime number function\n",
    "    \n",
    "  while(checker_forward>0 and checker_backward>0):     \n",
    "    forward=forward+1       #increasing the checking value\n",
    "    backward=backward-1     #decreasing the checking value\n",
    "    \n",
    "    count_backward=count_backward+1   #increasing to next position\n",
    "    count_forward=count_forward+1     #decreasing to next position\n",
    "    \n",
    "    checker_forward=check(forward)    #calling function for next value\n",
    "    checker_backward=check(backward)  #calling function for previous value\n",
    "  if(checker_forward==0):\n",
    "     return forward,count_forward\n",
    "  else:\n",
    "    return backward,count_backward\n",
    "def check(number):          #function to check prime number\n",
    "  check=0\n",
    "  for i in range(2,number):\n",
    "    if number%i==0:\n",
    "      check=check+1\n",
    "  return check\n",
    "\n",
    "new=[]\n",
    "t=int(input(\"enter the total number of values you want to check : \"))\n",
    "while(t>0):\n",
    "   x=input(\"enter a number to be checked : \")   #taking input\n",
    "   new.append(int(x))                           #type casting\n",
    "   t=t-1\n",
    "for z in new:\n",
    "      passer=check(z)\n",
    "      if passer>0: \n",
    "         a,b=close(z)                             #calling function\n",
    "         print(\"\\nInput value : \",z)\n",
    "         print(\"\\nMissed it by that much (\",b,\") !\\n\")\n",
    "      else:\n",
    "         print(\"\\nInput value : \",z)\n",
    "         print(\"\\nWould you believe it; it is a prime!\\n\")\n"
   ]
  },
  {
   "cell_type": "markdown",
   "metadata": {},
   "source": [
    "# Question number 4"
   ]
  },
  {
   "cell_type": "code",
   "execution_count": 12,
   "metadata": {},
   "outputs": [
    {
     "name": "stdout",
     "output_type": "stream",
     "text": [
      "ONE WORD OMITTED FROM zaraar\n",
      "\n",
      "ONE WORD EXTRA FROM ahmed\n",
      "\n",
      "ONE WORD TRANSPOSE IN ali\n",
      "\n",
      "ONE WORD DIFFERET FROM qasim\n",
      "\n"
     ]
    }
   ],
   "source": [
    "def ommit(a,b):\n",
    "  for i in range(len(a)):\n",
    "    if a[i]!=b[i]:\n",
    "      temp1=a[:i]+b[i]+a[i:]\n",
    "      if temp1==b:\n",
    "        print(\"ONE WORD OMITTED FROM \"+temp1+\"\\n\")\n",
    "  temp1=a+b[-1]\n",
    "  if temp1==b:\n",
    "    print(\"ONE WORD OMITTED FROM \"+temp1+\"\\n\")\n",
    "\n",
    "def more(a,b):\n",
    "    temp2=a[:-1]\n",
    "    if temp2==b:\n",
    "        print(\"ONE WORD EXTRA FROM \"+b+\"\\n\")\n",
    "        return 0\n",
    "    temp2=0\n",
    "    for i in range(len(b)):\n",
    "        if a[i]!=b[i]:\n",
    "            temp2=a[:i]+a[i+1:]\n",
    "            if temp2==b:\n",
    "                print(\"ONE WORD EXCESS IN \"+b+\"\\n\")\n",
    "                return 0\n",
    "\n",
    "def different(a,b):\n",
    "    temp=a[:-1]+b[-1]\n",
    "    if temp==b:\n",
    "        print(\"ONE WORD DIFFERENT FROM \"+b+\"\\n\")\n",
    "        return 1\n",
    "    \n",
    "    for i in range(len(b)):\n",
    "        if a[i]!=b[i]:\n",
    "            temp=a[:i]+b[i]+a[i+1:]\n",
    "            if temp==b:\n",
    "                print(\"ONE WORD DIFFERET FROM \"+b+\"\\n\")\n",
    "                return 1\n",
    "    return 0\n",
    "\n",
    "def transpose(a,b):\n",
    " try:\n",
    "    for i in range(len(b)):\n",
    "        if a[i]!=b[i]:\n",
    "            temp=a[:i]+a[i+1]+a[i]+a[i+2:]\n",
    "            if temp==b:\n",
    "                print(\"ONE WORD TRANSPOSE IN \"+b+\"\\n\")\n",
    "                return 0\n",
    " except:\n",
    "        return 0\n",
    "            \n",
    "l=['zaraar','ahmed','ali','qasim']\n",
    "m=['zaraa','ahmedq','ail','qasam']\n",
    "a=False\n",
    "# x=int(input(\"enter the total number of dictionary words : \"))\n",
    "# for i in range(x):\n",
    "#     y=input(\"enter your dictionary word : \")\n",
    "#     l.append(y)\n",
    "# x=int(input(\"enter the total number of spell checking words : \"))\n",
    "# for i in range(x):\n",
    "#     y=input(\"enter your error word : \")\n",
    "#     m.append(y)\n",
    "for i in m:\n",
    "    for j in l:\n",
    "        if i==j:\n",
    "            print(\"correct\\n\")\n",
    "            break\n",
    "        if len(i)>len(j):\n",
    "            more(i,j)\n",
    "            a=True\n",
    "        elif len(i)<len(j):\n",
    "            ommit(i,j)\n",
    "            a=True\n",
    "        if(a==False):\n",
    "             if len(i)==len(j):\n",
    "                    a=different(i,j)\n",
    "                    if a==False:\n",
    "                        transpose(i,j)\n",
    "        a=False"
   ]
  },
  {
   "cell_type": "code",
   "execution_count": null,
   "metadata": {},
   "outputs": [],
   "source": []
  },
  {
   "cell_type": "code",
   "execution_count": null,
   "metadata": {},
   "outputs": [],
   "source": []
  },
  {
   "cell_type": "code",
   "execution_count": null,
   "metadata": {},
   "outputs": [],
   "source": []
  }
 ],
 "metadata": {
  "colab": {
   "collapsed_sections": [],
   "name": "Welcome To Colaboratory",
   "provenance": [],
   "toc_visible": true
  },
  "kernelspec": {
   "display_name": "Python 3 (ipykernel)",
   "language": "python",
   "name": "python3"
  },
  "language_info": {
   "codemirror_mode": {
    "name": "ipython",
    "version": 3
   },
   "file_extension": ".py",
   "mimetype": "text/x-python",
   "name": "python",
   "nbconvert_exporter": "python",
   "pygments_lexer": "ipython3",
   "version": "3.9.12"
  }
 },
 "nbformat": 4,
 "nbformat_minor": 1
}
